{
 "cells": [
  {
   "cell_type": "code",
   "execution_count": 2,
   "metadata": {},
   "outputs": [],
   "source": [
    "%matplotlib inline"
   ]
  },
  {
   "cell_type": "code",
   "execution_count": 4,
   "metadata": {},
   "outputs": [
    {
     "name": "stdout",
     "output_type": "stream",
     "text": [
      "[0.00015915494309189535, 0.0007957747154594768, 0.0015915494309189536]\r\n"
     ]
    }
   ],
   "source": [
    "!python common.py"
   ]
  },
  {
   "cell_type": "code",
   "execution_count": null,
   "metadata": {},
   "outputs": [],
   "source": [
    "!"
   ]
  },
  {
   "cell_type": "code",
   "execution_count": 8,
   "metadata": {},
   "outputs": [],
   "source": [
    "import numpy as np"
   ]
  },
  {
   "cell_type": "code",
   "execution_count": 52,
   "metadata": {},
   "outputs": [],
   "source": [
    "N = 100\n",
    "data = np.random.randn(N,2)"
   ]
  },
  {
   "cell_type": "code",
   "execution_count": 53,
   "metadata": {},
   "outputs": [
    {
     "name": "stdout",
     "output_type": "stream",
     "text": [
      "[ 0.00016749 -0.00028419]\n"
     ]
    }
   ],
   "source": [
    "mean = np.mean(data, axis=0)\n",
    "print(mean)"
   ]
  },
  {
   "cell_type": "code",
   "execution_count": 54,
   "metadata": {},
   "outputs": [
    {
     "name": "stdout",
     "output_type": "stream",
     "text": [
      "[[ 1.00018388e+00 -2.40408671e-05]\n",
      " [-2.40408671e-05  1.00070150e+00]]\n"
     ]
    }
   ],
   "source": [
    "cov = np.cov(data.T)\n",
    "print(cov)"
   ]
  },
  {
   "cell_type": "code",
   "execution_count": 55,
   "metadata": {},
   "outputs": [
    {
     "name": "stdout",
     "output_type": "stream",
     "text": [
      "1.0001837787231902\n",
      "1.0007013987523836\n",
      "-2.4040864738609532e-05\n"
     ]
    }
   ],
   "source": [
    "cov_xx = ((data[:,0] - mean[0]) ** 2.0).mean()\n",
    "cov_yy = ((data[:,1] - mean[1]) ** 2.0).mean()\n",
    "cov_xy = ((data[:,0] - mean[0]) * (data[:,1] - mean[1])).mean()\n",
    "\n",
    "print(cov_xx)\n",
    "print(cov_yy)\n",
    "print(cov_xy)"
   ]
  },
  {
   "cell_type": "code",
   "execution_count": null,
   "metadata": {},
   "outputs": [],
   "source": []
  }
 ],
 "metadata": {
  "kernelspec": {
   "display_name": "Python 3",
   "language": "python",
   "name": "python3"
  },
  "language_info": {
   "codemirror_mode": {
    "name": "ipython",
    "version": 3
   },
   "file_extension": ".py",
   "mimetype": "text/x-python",
   "name": "python",
   "nbconvert_exporter": "python",
   "pygments_lexer": "ipython3",
   "version": "3.6.4"
  }
 },
 "nbformat": 4,
 "nbformat_minor": 2
}
